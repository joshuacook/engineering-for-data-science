{
 "cells": [
  {
   "cell_type": "markdown",
   "metadata": {},
   "source": [
    "# Configuration"
   ]
  },
  {
   "cell_type": "markdown",
   "metadata": {},
   "source": [
    "## The Modeling Problem and the Engineering Problem"
   ]
  },
  {
   "cell_type": "markdown",
   "metadata": {},
   "source": [
    "As a practicing data scientist, it is likely that you spend the bulk of your time working toward the development of a model for a particular inference or prediciton application. It is less likely that you spend time thinking of the equally complex problems stemming from your system infrastructure. We might trivially think of these two often orthogonal concerns as the **modeling problem** and the **engineering problem**. The typical data scientist is trained to solve the former, often in an extremely rigorous manner, but can often wind up developing a series of ad hoc solutions to the latter.\n",
    "\n",
    "Since its introduction in 2013, Docker has quickly become a fundamental tool in the design and deployment of robust engineering infrastructure for many applications. From the smallest tech shops to Google, Docker is being used to \n",
    "\n",
    "- modernize traditional software\n",
    "- leverage cloud resources for application architecture\n",
    "- streamline continuous integration and delopyment pipelines\n",
    "- build out microservices\n",
    "\n",
    "These will certainly seem downright esoteric to the Data Scientist who is typically concerned with feature importances or how many epochs to run to train a certain neural network. \n",
    "\n",
    "That said, developing a robust engineering practice with Docker at its core can only make for better data science. This includes immediate concerns such as environment configuration and replicability and presentation of results, but in learning how to use Docker properly the data scientist can ensure that their work is deployed correctly as part and product of their team's software.\n",
    "\n",
    "Here, I discuss Docker as a tool for the data scientist, in particular in conjunction with the popular interactive programming platform Jupyter and the cloud computing platform Amazon Web Services (AWS). Using Docker, Jupyter and AWS, the data scientist can take control of their environment configuration, prototype scalable data architectures, and trivially clone their work toward replicability and communication.  "
   ]
  },
  {
   "cell_type": "markdown",
   "metadata": {},
   "source": [
    "## Getting Started"
   ]
  },
  {
   "cell_type": "markdown",
   "metadata": {},
   "source": [
    "In this first chapter, you will configure your local system and create an AWS instance in order to do data science work. To do this work, you will use the package management system `conda`, the containerization technology Docker, the version control software `git` and its counterpart cloud-based backup service Github.com, and the system design tool Docker Compose. \n",
    "\n",
    "There is something of a bootstrap moment in this first chapter. I'm writing this book using Jupyter notebooks. The goal is that you are able to read it and execute the very same code from Jupyter notebooks while you're reading it. That said, you may not even have a Jupyter running on your system. The steps here I designed to take you through step-by-step to install and configure all of the tools you will need to do the work in this book. "
   ]
  },
  {
   "cell_type": "markdown",
   "metadata": {},
   "source": [
    "### Prerequisites"
   ]
  },
  {
   "cell_type": "markdown",
   "metadata": {},
   "source": [
    "We will assume a basic knowledge of working in bash. This should include things like knowing that `~` is an alias for your home directory, that `pwd` shows your current location, `cd` changes directories and `ls` can be used to list files and in a directory."
   ]
  },
  {
   "cell_type": "markdown",
   "metadata": {},
   "source": [
    "### Useful tools"
   ]
  },
  {
   "cell_type": "markdown",
   "metadata": {},
   "source": [
    "#### Bash\n",
    "\n",
    " If you are using a Mac OS X system or a Linux system, you will already have Bash available to you in an application called Terminal. If you are using a Windows system, you can use the Anaconda Prompt that will be installed next. If you are on a Mac, you may want to install iTerm (https://iterm2.com). "
   ]
  },
  {
   "cell_type": "markdown",
   "metadata": {},
   "source": [
    "#### Conda\n",
    "\n",
    "It is recommended that you install [Conda](https://conda.io) on your local system. Conda is a package and environment management system for Linux, Mac, and Windows and is perfect for managing our local Python packages. Detailed instructions for installing Conda on your system can be found here: https://conda.io/docs/user-guide/install/index.html"
   ]
  },
  {
   "cell_type": "markdown",
   "metadata": {},
   "source": [
    "#### Atom\n",
    "\n",
    "A simple but extensible text editor such as Atom (https://atom.io) can be an invaluable tool. Atom is available for any modern operating system."
   ]
  },
  {
   "cell_type": "markdown",
   "metadata": {},
   "source": [
    "#### `vim`\n",
    "\n",
    "Nearly all of the work we will be doing will be on remote systems. It can be useful to be able to edit text files in place on these remote systems. We have essentially three options to do this:\n",
    "\n",
    "- Vim\n",
    "- nano\n",
    "- Emacs\n",
    "\n",
    "I will empahsize Vim. Vim is a text editor, like Atom. It is extensible, if not exactly simple. It is available on nearly every system by default, but it can be very challenging to learn. With a little guidance, we will be able to do but we need to do. It should be noted that we will only be using Vim on remote systems. If you would like to spend some time acquainting yourself with Vim, you can type `vimtutor` at a Bash prompt."
   ]
  },
  {
   "cell_type": "markdown",
   "metadata": {},
   "source": [
    "### SSH Key Pairs"
   ]
  },
  {
   "cell_type": "markdown",
   "metadata": {},
   "source": [
    "All of the work that you will be doing will take place remotely. As such, there is very little configuration to be done for the local system. The one thing that you will need to do is configure a set of SSH Keys to enable secure connection to the remote system you bring online. We will be using the Secure Shell protocol (SSH) to do the vast majority of our command line work. It is considered a best practice to use an SSH key pair for authentication when using SSH. An ssh key pair is a set of two long character strings: a private key and a public key. Though they are both called keys, I prefer to think of them as a key and lock. \n",
    "\n",
    "\n"
   ]
  },
  {
   "cell_type": "markdown",
   "metadata": {
    "caption": "Connecting with SSH Keys",
    "label": "fig:ssh_keys"
   },
   "source": [
    "![Connecting with SSH Keys](doc/img/ch-01-ssh_keys.png){#fig:ssh_keys}"
   ]
  },
  {
   "cell_type": "markdown",
   "metadata": {},
   "source": [
    "An SSH Key is a password-less method of authenticating to a remote system using public-key cryptography. Authentication is done using a key pair consisting of a public key (`id_rsa.pub`), which can be shared publicly, and a private key (`id_rsa`), which is known only to the user (See fig \\ref{fig:ssh_keys}). One might think of the public key as the lock on your front door, accessible to anyone, and the private key as the key in your pocket so that only you are able to open your door and gain access to your home.\n",
    "\n",
    "You will generate this key pair on our local system and then provide the public key to AWS so that it can be added to any system you wish to launch. You will keep the private key on our local system and use it whenever you wish to gain access."
   ]
  },
  {
   "cell_type": "markdown",
   "metadata": {},
   "source": [
    "#### Check to See if SSH Key Pair Exists"
   ]
  },
  {
   "cell_type": "markdown",
   "metadata": {},
   "source": [
    "You will use the Bash tool `ssh-keygen` to create a new key pair. To begin open a new terminal session\\footnote{On a Mac or Linux system, simply open the Terminal application. On Windows, open Anaconda Prompt.}, where you will examine whether or not you already have a key pair. Launching a new Bash session will put us in our home directory. The canonical location for storing SSH Keys is in a folder called `~/.ssh` in our home directory. Note that this directory begins with a `.` which makes it a hidden directory. In Bash Command \\ref{lst:ls_home}, you use `ls -la` to display all of the contents of your home directory (`~`) in a list.\n",
    "\n",
    "We will first check to make sure that you do not already have an SSH key pair."
   ]
  },
  {
   "cell_type": "code",
   "execution_count": 1,
   "metadata": {
    "caption": "List the contents of home directory",
    "label": "lst:ls_home",
    "tags": [
     "bash",
     "local"
    ]
   },
   "outputs": [
    {
     "name": "stdout",
     "output_type": "stream",
     "text": [
      "...\n",
      "drwxr-xr-x   21 joshuacook  staff    714 Jul 31  2017 .pylint.d\n",
      "drwx------   11 joshuacook  staff    374 Jan 28 18:49 .ssh\n",
      "drwxr-xr-x    6 joshuacook  staff    204 Feb  2 22:01 .vim\n",
      "-rw-------    1 joshuacook  staff  20788 Feb 10 08:54 .viminfo\n",
      "-rw-r--r--@   1 joshuacook  staff   1263 Jul 26  2017 .vimrc\n",
      "drwx------@   5 joshuacook  staff    170 Aug 26 09:12 Applications\n",
      "drwx------+  19 joshuacook  staff    646 Feb 11 09:32 Desktop\n",
      "drwx------+   6 joshuacook  staff    204 Feb  4 12:18 Documents\n",
      "...\n"
     ]
    }
   ],
   "source": [
    "ls -la ~"
   ]
  },
  {
   "cell_type": "markdown",
   "metadata": {},
   "source": [
    "My local system is running Mac OS X and has the `.ssh` folder already. As the directory already exists, in Bash Command \\ref{lst:ls_ssh}, I list the contents of my `.ssh` directory."
   ]
  },
  {
   "cell_type": "code",
   "execution_count": 4,
   "metadata": {
    "caption": "Display contents of the .ssh directory",
    "label": "lst:ls_ssh",
    "tags": [
     "bash",
     "local"
    ]
   },
   "outputs": [
    {
     "name": "stdout",
     "output_type": "stream",
     "text": [
      "total 24\n",
      "drwxr-xr-x  8 jovyan users  272 Apr 24 23:07 .\n",
      "drwxr-xr-x 21 jovyan users  714 Apr 25 00:39 ..\n",
      "-rw-------  1 jovyan users 1679 Apr 24 23:06 id_rsa\n",
      "-rw-r--r--  1 jovyan users  418 Apr 24 23:06 id_rsa.pub\n"
     ]
    }
   ],
   "source": [
    "ls -la ~/.ssh"
   ]
  },
  {
   "cell_type": "markdown",
   "metadata": {},
   "source": [
    "As can be seen, I already have an SSH Keypair named `id_rsa` and `id_rsa.pub`. If this is true for you, as well, you should skip the next step and not create new SSH Keys. If you do not have these keys, proceed to Bash Command \\ref{lst:create_new_ssh_key}."
   ]
  },
  {
   "cell_type": "markdown",
   "metadata": {},
   "source": [
    "#### Create a new SSH Key Pair\n",
    "\n",
    "If when listing the home directory, you do not see a folder called `.ssh` or when displaying the contents of `.ssh` you do not see an SSH Keypair named `id_rsa` and `id_rsa.pub`, a new SSH Keypair will need to be created. In Bash Command \\ref{lst:create_new_ssh_key}, you create a new SSH Keypair using the `ssh-keygen` command line utility.\n",
    "\n",
    "During the creation of the SSH Keypair, you will be prompted three times. The first asks where you should save the SSH Keypair, defaulting to the `.ssh/id_rsa` in our home directory. In Bash Command \\ref{lst:create_new_ssh_key}, you see that this is being done at `/Users/joshuacook/.ssh/id_rsa` on my local system where my username is `joshuacook`. The second and third prompts will ask for a passphrase to be added to the key. For our purposes, leaving this passphrase empty will be fine. In other words, the default options are preferable and you may simply hit `<ENTER>` three times."
   ]
  },
  {
   "cell_type": "code",
   "execution_count": 1,
   "metadata": {
    "caption": "Create a new SSH Key Pair",
    "label": "lst:create_new_ssh_key",
    "tags": [
     "bash",
     "local"
    ]
   },
   "outputs": [
    {
     "name": "stdout",
     "output_type": "stream",
     "text": [
      "Generating public/private rsa key pair.\n",
      "Enter file in which to save the key (/Users/joshuacook/.ssh/id_rsa): \n",
      "Enter passphrase (empty for no passphrase):\n",
      "Enter same passphrase again:\n",
      "Your identification has been saved in id_rsa.\n",
      "Your public key has been saved in id_rsa.pub.\n",
      "The key fingerprint is:\n",
      "SHA256:p5KeEomPt6izFC5gaFphfx3zw8aAB+D8RiUA1/nEsUc joshuacook@LOCAL\n",
      "The key's randomart image is:\n",
      "+---[RSA 2048]----+\n",
      "|  ..++ooo.E      |\n",
      "|   +  o=oo       |\n",
      "|  o o oo* .      |\n",
      "|.. o o o.O       |\n",
      "|o+....+ S B      |\n",
      "|*.o oo . + .     |\n",
      "|oo o .o .        |\n",
      "|+ ..+. o         |\n",
      "|o+...oo          |\n",
      "+----[SHA256]-----+\n"
     ]
    }
   ],
   "source": [
    "ssh-keygen"
   ]
  },
  {
   "cell_type": "markdown",
   "metadata": {},
   "source": [
    "You can verify the SSH Keypair you just created by displaying the Public Key in our shell (See Bash Command \\ref{lst:cat_pub_key}). Here, you use the `cat` command, which concatenates the contents of `id_rsa.pub` to the shell output.\n"
   ]
  },
  {
   "cell_type": "code",
   "execution_count": 1,
   "metadata": {
    "caption": "Display Public SSH Key",
    "label": "lst:cat_pub_key",
    "scrolled": false,
    "tags": [
     "bash",
     "local"
    ]
   },
   "outputs": [
    {
     "name": "stdout",
     "output_type": "stream",
     "text": [
      "ssh-rsa\n",
      "AAAAB3NzaC1yc2EAAAADAQABAAABAQDdnHPEiq1a4OsDDY+g9luWQS8pCjBmR\n",
      "64MmsrQ9MaIaE5shIcFB1Kg3pGwJpypiZjoSh9pS55S9LckNsBfn8Ff42ALLj\n",
      "R8y+WlJKVk/0DvDXgGVcCc0t/uTvxVx0bRruYxLW167J89UnxnJuRZDLeY9fD\n",
      "OfIzSR5eglhCWVqiOzB+OsLqR1W04Xz1oStID78UiY5msW+EFg25Hg1wepYMC\n",
      "JG/Zr43ByOYPGseUrbCqFBS1KlQnzfWRfEKHZbtEe6HbWwz1UDL2NrdFXxZAI\n",
      "XYYoCVtl4WXd/WjDwSjbMmtf3BqenVKZcP2DQ9/W+geIGGjvOTfUdsCHennYI\n",
      "EUfEEP joshuacook@LOCAL\n"
     ]
    }
   ],
   "source": [
    "cat ~/.ssh/id_rsa.pub"
   ]
  },
  {
   "cell_type": "markdown",
   "metadata": {},
   "source": [
    "That is the sum of the local configuration you will need to do in order to get started."
   ]
  },
  {
   "cell_type": "markdown",
   "metadata": {},
   "source": [
    "## Amazon Web Services\n",
    "\n",
    "If you have not already done so, set up an AWS account\\footnote{As of 2017/12/19, detailed instructions for doing this can be obtained here: https://aws.amazon.com/premiumsupport/knowledge-center/create-and-activate-aws-account/}. You will be using AWS to manage the hardware upon which your data science platform will run. We will leave the details of what exactly \"hardware\" means to AWS. This is to say that AWS may be allocating resources as a virtual machine, but for your purposes, the experience will be as if you are using a physical system across the room from you.\n",
    "\n",
    "The most popular service offered by Amazon Web Services is the Elastic Compute Cloud (EC2), \"a web service that provides secure, resizable compute capacity in the cloud\"\\footnote{https://aws.amazon.com/ec2/}. For our purposes, compute capacity means a cloud-based computer you will use to run your platform. What we learn should generalize to other cloud providers such as DigitalOcean or Google cloud platform.\n",
    "\n",
    "If you are new to AWS you will be able to work through this text using the AWS Free Tier\\footnote{https://aws.amazon.com/free/}. For the first 12 months following sign up, new users receive 750 Hours per month of EC2 time. This amounts to 31.25 days of availability and, provided that readers keep only one server running at a time, ensures that readers can work through this text at no cost."
   ]
  },
  {
   "cell_type": "markdown",
   "metadata": {},
   "source": [
    "### Configure your AWS Account\n",
    "\n",
    "The next thing you will need to do is configure your AWS Account. \n",
    "\n",
    "This will involve: \n",
    "\n",
    "1. Configure a Key Pair\n",
    "2. Creating a Security Group\n",
    "\n",
    "The AWS Key Pair is slightly misnamed as it is not in fact a pair, but rather is simply the public portion of the SSH Key Pair you have on our local system. You will simply add the Public Key from the SSH Key Pair you just created. \n",
    "\n",
    "To begin, log in to your AWS control panel and navigate to the EC2 control panel (fig. \\ref{fig:access_ec2_dash}). First, access “Services” (fig. \\ref{fig:access_ec2_dash}, #1) then access “EC2” (fig. \\ref{fig:access_ec2_dash}, #2). The Services link can be accessed from any page in the AWS website."
   ]
  },
  {
   "cell_type": "markdown",
   "metadata": {},
   "source": [
    "![Access EC2 Dashboard](doc/img/ch-01-access_ec2_dash.png){#fig:access_ec2_dash}"
   ]
  },
  {
   "cell_type": "markdown",
   "metadata": {},
   "source": [
    "#### Configure a Key Pair\n",
    "\n",
    "Once at the EC2 control panel, access the Key Pairs pane using either link (fig. \\ref{fig:access_key_pairs})."
   ]
  },
  {
   "cell_type": "markdown",
   "metadata": {},
   "source": [
    "![Access Key Pairs from the EC2 control panel](doc/img/ch-01-access_key_pairs.png){#fig:access_key_pairs}"
   ]
  },
  {
   "cell_type": "markdown",
   "metadata": {},
   "source": [
    "From the Key Pairs pane, choose “Import Key Pair.” This will activate a modal that you can use to create a new key pair associated with a region on your AWS account. Make sure to give the key pair a computer-friendly name, like `from-MacBook-2018`. Paste the contents of your public key (`id_rsa.pub`) into the public key contents. Prior to clicking Import, your key should appear as in fig. \\ref{fig:import_public_key}. Click Import to create the new key."
   ]
  },
  {
   "cell_type": "markdown",
   "metadata": {},
   "source": [
    "![Import a New Public Key](doc/img/ch-01-import_public_key.png){#fig:import_public_key}"
   ]
  },
  {
   "cell_type": "markdown",
   "metadata": {},
   "source": [
    "You have just created a key pair between AWS and your local system. When you create a new instance, you will instruct AWS to provision the instance with this public key and thus you will be able to access the cloud-based system from your local system using your private key."
   ]
  },
  {
   "cell_type": "markdown",
   "metadata": {},
   "source": [
    "#### Ports & Security Groups\n",
    "\n",
    "A security group is a set of ports public facing Internet. This may be a new concept for you and we will not dig very deeply into it. Suffice it to say that we need a short list of ports to be available to us for accessing the different services we might configure. A port is a number appended to an IP address or domain name with a colon like this\n",
    "\n",
    "    192.168.99.100:3000\n",
    "\n",
    "Here, `192.168.99.100` is the IP address and `3000` is the port. A port can be thought of as a channel over which a service will listen for requests. You have already been using a few ports without knowing that you are. All internet traffic is routed using ports 80 and 443 by default. What this means is that visiting http://google.com:80 is equivalent to visiting http://google.com and visiting http://google.com:443 is equivalent to visiting https://google.com. \n",
    "\n",
    "\n",
    "As we are largely concerned with learning, we are not concerned with the specifics of high–availability, and for us networking best practices will consist of making sure that things work. If you intend on putting work that you do here into production, you should certainly consult with your local Site Reliability Engineer.\n",
    "\n",
    "For security purposes, by default Amazon closes all ports to outside traffic. This is why we will need to create a security group to open the ports that we need. These include the following:\n",
    "\n",
    "| port | service |\n",
    "|:-:|:-:|\n",
    "| `22` | ssh |\n",
    "| `80` | http |\n",
    "| `443` | https |\n",
    "| `5000` | miscellaneous|\n",
    "| `5432` | PostgreSQL |\n",
    "| `6379` | Redis |\n",
    "| `8888` | Jupyter |\n",
    "| `27017` | Mongo |"
   ]
  },
  {
   "cell_type": "code",
   "execution_count": null,
   "metadata": {},
   "outputs": [],
   "source": []
  },
  {
   "cell_type": "markdown",
   "metadata": {},
   "source": [
    "#### Create a New Security Group\n",
    "\n",
    "From the EC2 Control panel, access Security Groups (See fig. \\ref{fig:ch-01-access_security_group}). "
   ]
  },
  {
   "cell_type": "markdown",
   "metadata": {},
   "source": [
    "![Access Security Groups from the EC2 control panel](doc/img/ch-01-access_security_group.png){#fig:ch-01-access_security_group}"
   ]
  },
  {
   "cell_type": "markdown",
   "metadata": {},
   "source": [
    "From the Security Group pane, click “Create Security Group.” Give the security group a computer friendly group name like `ds_engineering`. Give the security group a description like “Open access to important Data Science related services”. Use the default VPC. \n",
    "\n",
    "Access the Inbound tab (See fig. \\ref{fig:ch_01-create_new_security_group}, #1) and configure the security rules listed above. **Make sure to set Source to “Anywhere”**."
   ]
  },
  {
   "cell_type": "markdown",
   "metadata": {},
   "source": [
    "![Create a New Security Group](doc/img/ch_01-create_new_security_group.png){#fig:ch_01-create_new_security_group}"
   ]
  },
  {
   "cell_type": "markdown",
   "metadata": {},
   "source": [
    "## Exercises"
   ]
  },
  {
   "cell_type": "markdown",
   "metadata": {},
   "source": [
    "## Summary"
   ]
  }
 ],
 "metadata": {
  "celltoolbar": "Edit Metadata",
  "kernelspec": {
   "display_name": "Python 3",
   "language": "python",
   "name": "python3"
  },
  "language_info": {
   "codemirror_mode": {
    "name": "ipython",
    "version": 3
   },
   "file_extension": ".py",
   "mimetype": "text/x-python",
   "name": "python",
   "nbconvert_exporter": "python",
   "pygments_lexer": "ipython3",
   "version": "3.6.5"
  },
  "latex_metadata": {
   "title": "Engineering For Data Science with Docker"
  }
 },
 "nbformat": 4,
 "nbformat_minor": 2
}
