{
 "cells": [
  {
   "cell_type": "code",
   "execution_count": 1,
   "metadata": {},
   "outputs": [],
   "source": [
    "!pip install folium --quiet"
   ]
  },
  {
   "cell_type": "code",
   "execution_count": 2,
   "metadata": {},
   "outputs": [],
   "source": [
    "import pandas as pd\n",
    "from pymongo import MongoClient\n",
    "\n",
    "%matplotlib inline\n",
    "\n",
    "mongo_client = MongoClient('18.236.138.158', 27016)\n",
    "database_reference = mongo_client.twitter"
   ]
  },
  {
   "cell_type": "markdown",
   "metadata": {},
   "source": [
    "| | | | | |\n",
    "|-|-|-|-|-|\n",
    "| `_id`        | `truncated`                 |`user`            |`extended_tweet` | `favorited`                   |\n",
    "| `created_at` | `in_reply_to_status_id`     |`geo`             |`quote_count`    | `retweeted`                   |\n",
    "| `id`         | `in_reply_to_status_id_str` |`coordinates`     |`reply_count`    | `filter_level`                |\n",
    "| `id_str`     | `in_reply_to_user_id`       |`place`           |`retweet_count`  | `lang`                        |\n",
    "| `text`       | `in_reply_to_user_id_str`   |`contributors`    |`favorite_count` | `timestamp_ms`                |\n",
    "| `source`     | `in_reply_to_screen_name`   |`is_quote_status` |`entities`       |                               |\n",
    "\n",
    "\n",
    "\n",
    "\n",
    "\n",
    "\n",
    "\n",
    "\n",
    "\n",
    "\n",
    "\n",
    "\n",
    "\n",
    "\n",
    "\n",
    "\n",
    "\n",
    "\n",
    "\n",
    "\n",
    "\n",
    "\n"
   ]
  },
  {
   "cell_type": "markdown",
   "metadata": {},
   "source": [
    "![](https://www.evernote.com/l/AAEO7gpKcKdI5YJeGrni4GhdlBiBWdTa3YgB/image.png)"
   ]
  },
  {
   "cell_type": "code",
   "execution_count": 3,
   "metadata": {},
   "outputs": [],
   "source": [
    "collection_reference = database_reference.instructor_test_group"
   ]
  },
  {
   "cell_type": "code",
   "execution_count": 4,
   "metadata": {},
   "outputs": [
    {
     "data": {
      "text/plain": [
       "20000"
      ]
     },
     "execution_count": 4,
     "metadata": {},
     "output_type": "execute_result"
    }
   ],
   "source": [
    "collection_reference.count()"
   ]
  },
  {
   "cell_type": "code",
   "execution_count": 6,
   "metadata": {},
   "outputs": [],
   "source": [
    "from mongo_aggregation_verbs import *"
   ]
  },
  {
   "cell_type": "markdown",
   "metadata": {},
   "source": [
    "## Tweets By Day"
   ]
  },
  {
   "cell_type": "code",
   "execution_count": 7,
   "metadata": {},
   "outputs": [],
   "source": [
    "datestring_created_at = { \"dateString\" : \"$created_at\"}\n",
    "date_from_string = {\"$dateFromString\" : datestring_created_at }\n",
    "\n",
    "date_to_id = {\n",
    "    PROJECT : {\n",
    "        \"_id\" : 0,\n",
    "        \"year\"  : {\"$year\"       : {\"date\" : date_from_string}},\n",
    "        \"month\" : {\"$month\"      : {\"date\" : date_from_string}},\n",
    "        \"day\"   : {\"$dayOfMonth\" : {\"date\" : date_from_string}},\n",
    "    }\n",
    "}\n",
    "\n",
    "group_by_date = {\n",
    "    GROUP : {\n",
    "        \"tweets\" : { \"$sum\" : 1 },\n",
    "        \"_id\" : {\n",
    "            \"year\"  : \"$year\",\n",
    "            \"month\" : \"$month\",\n",
    "            \"day\"   : \"$day\"\n",
    "        },\n",
    "    }\n",
    "}\n",
    "\n"
   ]
  },
  {
   "cell_type": "code",
   "execution_count": 8,
   "metadata": {},
   "outputs": [],
   "source": [
    "def dictionary_to_datestring(x):\n",
    "    month = x['month']\n",
    "    day   = x['day']\n",
    "    year  = x['year']\n",
    "    return \"{}-{}-{}\".format(month, day, year)"
   ]
  },
  {
   "cell_type": "code",
   "execution_count": 9,
   "metadata": {},
   "outputs": [],
   "source": [
    "cursor = collection_reference.aggregate([\n",
    "    date_to_id,\n",
    "    group_by_date\n",
    "])\n",
    "\n",
    "daily_tweets = pd.DataFrame(list(cursor))"
   ]
  },
  {
   "cell_type": "code",
   "execution_count": 10,
   "metadata": {
    "scrolled": true
   },
   "outputs": [
    {
     "data": {
      "text/plain": [
       "<matplotlib.axes._subplots.AxesSubplot at 0x7f33956f1f28>"
      ]
     },
     "execution_count": 10,
     "metadata": {},
     "output_type": "execute_result"
    },
    {
     "data": {
      "image/png": "[encoded data removed]",
      "text/plain": [
       "<matplotlib.figure.Figure at 0x7f33956f8d30>"
      ]
     },
     "metadata": {},
     "output_type": "display_data"
    }
   ],
   "source": [
    "datestrings = daily_tweets['_id'].apply(dictionary_to_datestring)\n",
    "daily_tweets['date'] = pd.to_datetime(datestrings)\n",
    "\n",
    "daily_tweets.drop('_id', axis=1, inplace=True)\n",
    "daily_tweets.sort_values('date', inplace=True)\n",
    "daily_tweets.set_index('date', inplace=True)\n",
    "daily_tweets.plot()"
   ]
  },
  {
   "cell_type": "markdown",
   "metadata": {},
   "source": [
    "## Tweet Locations"
   ]
  },
  {
   "cell_type": "code",
   "execution_count": null,
   "metadata": {
    "scrolled": false
   },
   "outputs": [],
   "source": [
    "not_null = { '$ne' : None }\n",
    "nonnull_geo = {'geo' : not_null }\n",
    "keep_geo = { 'geo' : 1 }\n",
    "\n",
    "cursor = collection_reference.find(nonnull_geo, keep_geo)\n",
    "cursor.count()"
   ]
  },
  {
   "cell_type": "code",
   "execution_count": null,
   "metadata": {},
   "outputs": [],
   "source": [
    "geo_tweets = pd.DataFrame(list(cursor))"
   ]
  },
  {
   "cell_type": "code",
   "execution_count": null,
   "metadata": {},
   "outputs": [],
   "source": [
    "def parse_geo_from_tweets(tweets):\n",
    "    geo = pd.DataFrame(list(tweets['geo'].values))\n",
    "    return geo"
   ]
  },
  {
   "cell_type": "code",
   "execution_count": null,
   "metadata": {},
   "outputs": [],
   "source": [
    "geo = parse_geo_from_tweets(geo_tweets)\n",
    "geo.sample(5)"
   ]
  },
  {
   "cell_type": "code",
   "execution_count": null,
   "metadata": {},
   "outputs": [],
   "source": [
    "import folium\n",
    "starting_loc = [34.0689, -118.4452]\n",
    "la_map = folium.Map(location=starting_loc, zoom_start=13)"
   ]
  },
  {
   "cell_type": "code",
   "execution_count": null,
   "metadata": {},
   "outputs": [],
   "source": [
    "for loc in geo.coordinates.values:\n",
    "    folium.Marker(loc).add_to(la_map)"
   ]
  },
  {
   "cell_type": "code",
   "execution_count": null,
   "metadata": {},
   "outputs": [],
   "source": [
    "la_map"
   ]
  },
  {
   "cell_type": "code",
   "execution_count": null,
   "metadata": {},
   "outputs": [],
   "source": []
  }
 ],
 "metadata": {
  "kernelspec": {
   "display_name": "Python 3",
   "language": "python",
   "name": "python3"
  },
  "language_info": {
   "codemirror_mode": {
    "name": "ipython",
    "version": 3
   },
   "file_extension": ".py",
   "mimetype": "text/x-python",
   "name": "python",
   "nbconvert_exporter": "python",
   "pygments_lexer": "ipython3",
   "version": "3.6.5"
  }
 },
 "nbformat": 4,
 "nbformat_minor": 2
}
