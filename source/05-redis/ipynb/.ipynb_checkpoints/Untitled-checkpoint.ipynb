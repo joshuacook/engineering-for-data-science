{
 "cells": [
  {
   "cell_type": "markdown",
   "metadata": {},
   "source": [
    "## Build a Jupyter-Redis Application with Docker Compose"
   ]
  },
  {
   "cell_type": "markdown",
   "metadata": {},
   "source": [
    "Next we will build a Docker Compose application to be a Jupyter Notebook Server running in conjunction with a Redis server.\n",
    "\n",
    "![](../../doc/img/jup-redis.png)"
   ]
  },
  {
   "cell_type": "markdown",
   "metadata": {},
   "source": [
    "In the root directory for this chapter, we have a file called `docker-\n",
    "compose.yml` which defines this application.\n",
    "\n",
    "    version: '3'\n",
    "    services:\n",
    "        this_jupyter:\n",
    "            build: docker/jupyter\n",
    "            ports:\n",
    "                - \"80:8888\"\n",
    "            volumes:\n",
    "                - .:/home/jovyan\n",
    "        this_redis:\n",
    "           image: redis\n",
    "           volumes:\n",
    "               - redis_data:/data\n",
    "    volumes:\n",
    "        redis_data:\n",
    "\n",
    "The Compose file defines two services: `this_jupyter` and `this_redis` and a volume, `redis_data`.\n",
    "\n",
    "The `this_jupyter` service:\n",
    "\n",
    "- Uses the `build:` keyword to define the service, meaning it will use a `Dockerfile` to build the image defining the service.\n",
    "- Uses a `Dockerfile` contained in the `docker/jupyter`\n",
    "- Attaches the local directory (`.`) to the (hopefully familiar) jupyter `WORKDIR`, `/home/jovyan`, as specified by the `volumes:` keyword.\n",
    "- Forwards the exposed port `8888` to the port `8000` on the host machine, as specified by the `ports:` keyword.\n",
    "\n",
    "The `this_redis` service:\n",
    "\n",
    "- Uses the `image:` keyword to define the service, meaning it will pull an image from the Docker Hub registry.\n",
    "- Uses the `redis` image.\n",
    "- Attaches the volume `redis_data` to the `redis` `WORKDIR`, `/data`, as specified by the `volumes:` keyword."
   ]
  },
  {
   "cell_type": "markdown",
   "metadata": {},
   "source": [
    "**$\\square$ Note** The definition of every container defined in a `docker-compose.yml` file must begin with either the `image:` keyword or the `build:` keyword. "
   ]
  },
  {
   "cell_type": "markdown",
   "metadata": {},
   "source": [
    "### Run Your Application with Compose\n",
    "\n",
    "Now, you use the `docker-compose` command line tool to start the application. You will use the `-d` argument to specify that you wish to launch the application in detached mode.\n",
    "\n",
    "Listing 9-8. Start the Compose Application jupyter_redis\n",
    "```\n",
    "$ docker-compose up -d\n",
    "Creating network \"05-redis_default\" with the default driver\n",
    "Creating volume \"05-redis_redis_data\" with default driver\n",
    "Building this_jupyter\n",
    "Step 1/3 : FROM jupyter/datascience-notebook\n",
    " ---> 52b41d2a15ba\n",
    "Step 2/3 : RUN conda install --yes redis\n",
    " ---> Running in f16856f4ce4e\n",
    "```\n",
    "Creating network \"ch9jupyterredis_default\" with the default driver\n",
    "Creating ch9jupyterredis_this_redis_1\n",
    "Creating ch9jupyterredis_this_jupyter_1\n",
    "\n",
    "The docker-compose up command first instructs the Docker Engine to either\n",
    "1. Check the local image cache for the specified image if the\n",
    "container definition begins with the image: keyword.\n",
    "2. Build the image from a referenced Dockerfile if the container\n",
    "definition begins with the build: keyword.\n",
    "Here, you have passed an image: keyword for both containers. In this case, both images with which you are working are currently in your image cache. Were they not in the cache, the Docker engine would pull them from Docker Hub.\n",
    "Next, the docker-compose up command instructs the Docker engine to create a network over which the application’s containers can communicate. Here, a network called ch9jupyterredis_default was created. Listing 9-14 shows how to use this network.\n",
    "Finally, the docker-compose up command instructs the Docker engine to create the containers defined in the docker-compose.yml file. This is equivalent to running the two commands in Listing 9-9, with one exception: the connection created by docker-compose is superior to the link created by a --link flag, as you will see in a moment."
   ]
  }
 ],
 "metadata": {
  "kernelspec": {
   "display_name": "Python 3",
   "language": "python",
   "name": "python3"
  },
  "language_info": {
   "codemirror_mode": {
    "name": "ipython",
    "version": 3
   },
   "file_extension": ".py",
   "mimetype": "text/x-python",
   "name": "python",
   "nbconvert_exporter": "python",
   "pygments_lexer": "ipython3",
   "version": "3.6.5"
  }
 },
 "nbformat": 4,
 "nbformat_minor": 2
}
