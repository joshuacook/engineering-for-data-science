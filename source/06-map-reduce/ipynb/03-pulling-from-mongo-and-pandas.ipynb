{
 "cells": [
  {
   "cell_type": "markdown",
   "metadata": {},
   "source": [
    "### Pulling from Mongo and Pandas\n"
   ]
  },
  {
   "cell_type": "code",
   "execution_count": 1,
   "metadata": {},
   "outputs": [],
   "source": [
    "import pymongo\n",
    "from redis import Redis\n",
    "\n",
    "redis_connection = Redis(host='this_redis')\n",
    "mongo_client = pymongo.MongoClient('this_mongo')\n"
   ]
  },
  {
   "cell_type": "code",
   "execution_count": 2,
   "metadata": {},
   "outputs": [
    {
     "data": {
      "text/plain": [
       "['admin', 'config', 'local', 'twitter']"
      ]
     },
     "execution_count": 2,
     "metadata": {},
     "output_type": "execute_result"
    }
   ],
   "source": [
    "mongo_client.database_names()"
   ]
  },
  {
   "cell_type": "code",
   "execution_count": 3,
   "metadata": {},
   "outputs": [],
   "source": [
    "import pandas as pd"
   ]
  },
  {
   "cell_type": "code",
   "execution_count": 4,
   "metadata": {},
   "outputs": [],
   "source": [
    "twentyktweets = pd.read_pickle('../data/twentyktweets.p')"
   ]
  },
  {
   "cell_type": "code",
   "execution_count": 5,
   "metadata": {},
   "outputs": [],
   "source": [
    "# mongo_client.twitter.tweets.insert_many(twentyktweets.to_dict('records'))"
   ]
  },
  {
   "cell_type": "code",
   "execution_count": 6,
   "metadata": {},
   "outputs": [],
   "source": [
    "# tweet_sample = twentyktweets.sample(20).to_dict('records')"
   ]
  },
  {
   "cell_type": "code",
   "execution_count": 7,
   "metadata": {},
   "outputs": [],
   "source": [
    "# mongo_client.twitter.tweets_sample.insert_many(tweet_sample)"
   ]
  },
  {
   "cell_type": "code",
   "execution_count": 8,
   "metadata": {},
   "outputs": [],
   "source": [
    "cur = (mongo_client\n",
    "       .twitter\n",
    "       .tweets_sample\n",
    "       .find(projection={'_id': 0, 'text' : 1}))"
   ]
  },
  {
   "cell_type": "code",
   "execution_count": 9,
   "metadata": {},
   "outputs": [
    {
     "data": {
      "text/plain": [
       "'😮'"
      ]
     },
     "execution_count": 9,
     "metadata": {},
     "output_type": "execute_result"
    }
   ],
   "source": [
    "next(cur)['text']"
   ]
  },
  {
   "cell_type": "markdown",
   "metadata": {},
   "source": [
    "### Parallel MapReduce"
   ]
  },
  {
   "cell_type": "code",
   "execution_count": 10,
   "metadata": {},
   "outputs": [
    {
     "name": "stdout",
     "output_type": "stream",
     "text": [
      "/home/jovyan\n"
     ]
    }
   ],
   "source": [
    "cd .."
   ]
  },
  {
   "cell_type": "code",
   "execution_count": 11,
   "metadata": {},
   "outputs": [],
   "source": [
    "from redis import Redis \n",
    "from rq import Queue\n",
    "from lib.worker import remove_punctuation, mapper, reducer, toggle_hold, check_hold\n",
    "import time\n",
    "redis_connection = Redis('this_redis')\n",
    "job_queue = Queue(connection=redis_connection)"
   ]
  },
  {
   "cell_type": "markdown",
   "metadata": {},
   "source": [
    "Here is our previous implementation of the `word_count` function.\n",
    "\n",
    "    def word_count(documents, redis_connection, word_list='word_list'):\n",
    "\n",
    "        counts = []\n",
    "\n",
    "        for document in documents:\n",
    "            mapper(document, redis_connection, word_list)\n",
    "\n",
    "        word = redis_connection.spop(word_list)\n",
    "        while word:\n",
    "            word = word.decode()\n",
    "            count = reducer(word, redis_connection)\n",
    "            counts.append((word, count))\n",
    "            word = redis_connection.spop(word_list)\n",
    "\n",
    "        return counts\n",
    "        \n",
    "There are two candidates for parallelization in this function:\n",
    "\n",
    "1. the `for` loop can be parallelized as tokenization of one document is completely independent of the tokenization of another.\n",
    "1. the `while` loop can be parallelized as the counting of tokens for one word is completely independent of the counting of another.\n",
    "\n",
    "There was one tricky aspect to this parallelization, however. We cannot work on the word counts until all of the tokenization is complete."
   ]
  },
  {
   "cell_type": "code",
   "execution_count": 12,
   "metadata": {},
   "outputs": [],
   "source": [
    "def map_documents_mongo(cursor):\n",
    "    for document in cursor:\n",
    "        job = job_queue.enqueue(mapper, document['text'], 'word_list')\n",
    "    return job"
   ]
  },
  {
   "cell_type": "code",
   "execution_count": 13,
   "metadata": {},
   "outputs": [],
   "source": [
    "def reduce_words():\n",
    "\n",
    "    word = redis_connection.spop('word_list')\n",
    "    while word:\n",
    "        word = word.decode()\n",
    "        job = job_queue.enqueue(reducer, word, 'count_list')\n",
    "        word = redis_connection.spop('word_list')\n",
    "    \n",
    "    return job"
   ]
  },
  {
   "cell_type": "code",
   "execution_count": 14,
   "metadata": {},
   "outputs": [],
   "source": [
    "def collect_counts():\n",
    "    \n",
    "    counts = []\n",
    "    count = redis_connection.lpop('count_list')\n",
    "    while count:\n",
    "        counts.append(count)\n",
    "        count = redis_connection.lpop('count_list')\n",
    "        \n",
    "        \n",
    "    counts = [remove_punctuation(count.decode())\n",
    "              for count in counts]\n",
    "    counts = [count.split()\n",
    "              for count in counts]\n",
    "    counts = [(count[0], int(count[1]))\n",
    "              for count in counts]\n",
    "    return counts"
   ]
  },
  {
   "cell_type": "code",
   "execution_count": 24,
   "metadata": {
    "scrolled": false
   },
   "outputs": [
    {
     "name": "stdout",
     "output_type": "stream",
     "text": [
      "Mapping Documents.\n",
      ".................\n",
      "Reducing Word Tokens.\n",
      "............................................................................................................."
     ]
    },
    {
     "data": {
      "text/html": [
       "<div>\n",
       "<style scoped>\n",
       "    .dataframe tbody tr th:only-of-type {\n",
       "        vertical-align: middle;\n",
       "    }\n",
       "\n",
       "    .dataframe tbody tr th {\n",
       "        vertical-align: top;\n",
       "    }\n",
       "\n",
       "    .dataframe thead th {\n",
       "        text-align: right;\n",
       "    }\n",
       "</style>\n",
       "<table border=\"1\" class=\"dataframe\">\n",
       "  <thead>\n",
       "    <tr style=\"text-align: right;\">\n",
       "      <th></th>\n",
       "      <th>word</th>\n",
       "      <th>count</th>\n",
       "    </tr>\n",
       "  </thead>\n",
       "  <tbody>\n",
       "    <tr>\n",
       "      <th>114</th>\n",
       "      <td>the</td>\n",
       "      <td>5</td>\n",
       "    </tr>\n",
       "    <tr>\n",
       "      <th>149</th>\n",
       "      <td>of</td>\n",
       "      <td>5</td>\n",
       "    </tr>\n",
       "    <tr>\n",
       "      <th>109</th>\n",
       "      <td>happy</td>\n",
       "      <td>3</td>\n",
       "    </tr>\n",
       "    <tr>\n",
       "      <th>77</th>\n",
       "      <td>a</td>\n",
       "      <td>3</td>\n",
       "    </tr>\n",
       "    <tr>\n",
       "      <th>56</th>\n",
       "      <td>•</td>\n",
       "      <td>2</td>\n",
       "    </tr>\n",
       "    <tr>\n",
       "      <th>57</th>\n",
       "      <td>are</td>\n",
       "      <td>2</td>\n",
       "    </tr>\n",
       "    <tr>\n",
       "      <th>126</th>\n",
       "      <td>birthday</td>\n",
       "      <td>2</td>\n",
       "    </tr>\n",
       "    <tr>\n",
       "      <th>123</th>\n",
       "      <td>and</td>\n",
       "      <td>2</td>\n",
       "    </tr>\n",
       "    <tr>\n",
       "      <th>68</th>\n",
       "      <td>to</td>\n",
       "      <td>2</td>\n",
       "    </tr>\n",
       "    <tr>\n",
       "      <th>78</th>\n",
       "      <td>bitch</td>\n",
       "      <td>2</td>\n",
       "    </tr>\n",
       "  </tbody>\n",
       "</table>\n",
       "</div>"
      ],
      "text/plain": [
       "         word  count\n",
       "114       the      5\n",
       "149        of      5\n",
       "109     happy      3\n",
       "77          a      3\n",
       "56          •      2\n",
       "57        are      2\n",
       "126  birthday      2\n",
       "123       and      2\n",
       "68         to      2\n",
       "78      bitch      2"
      ]
     },
     "execution_count": 24,
     "metadata": {},
     "output_type": "execute_result"
    }
   ],
   "source": [
    "cur = (mongo_client\n",
    "       .twitter\n",
    "       .tweets_sample\n",
    "       .find(projection={'_id': 0, 'text' : 1}))\n",
    "job = map_documents_mongo(cur)\n",
    "\n",
    "print(\"Mapping Documents.\")\n",
    "status = job.status\n",
    "while status != 'finished':\n",
    "    print(\".\", end=\"\")\n",
    "    status = job.status\n",
    "    time.sleep(0.1)\n",
    "\n",
    "job = reduce_words()\n",
    "\n",
    "print(\"\\nReducing Word Tokens.\")\n",
    "status = job.status\n",
    "while status != 'finished':\n",
    "    print(\".\", end=\"\")\n",
    "    status = job.status\n",
    "    time.sleep(0.1)\n",
    "\n",
    "results = pd.DataFrame(collect_counts(), columns=['word', 'count'])\n",
    "\n",
    "results.sort_values('count', ascending=False).head(10)"
   ]
  },
  {
   "cell_type": "code",
   "execution_count": 25,
   "metadata": {},
   "outputs": [],
   "source": [
    "def map_documents_pandas(series):\n",
    "    for document in series.values:\n",
    "        job = job_queue.enqueue(mapper, document, 'word_list')\n",
    "    return job"
   ]
  },
  {
   "cell_type": "code",
   "execution_count": 27,
   "metadata": {},
   "outputs": [],
   "source": [
    "def word_count_pandas_sample(n, track=True):\n",
    "    start = time.time()\n",
    "    job = map_documents_pandas(twentyktweets.sample(n)['text'])\n",
    "    if track: print(\"Mapping Documents.\")\n",
    "    status = job.status\n",
    "    while status != 'finished':\n",
    "        if track: print(\".\", end=\"\")\n",
    "        status = job.status\n",
    "        time.sleep(0.1)\n",
    "\n",
    "    job = reduce_words()\n",
    "    if track: print(\"\\nReducing Word Tokens.\")\n",
    "    status = job.status\n",
    "    while status != 'finished':\n",
    "        if track: print(\".\", end=\"\")\n",
    "        status = job.status\n",
    "        time.sleep(0.1)\n",
    "\n",
    "    results = pd.DataFrame(collect_counts(), columns=['word', 'count'])\n",
    "    \n",
    "    return time.time() - start, results"
   ]
  },
  {
   "cell_type": "code",
   "execution_count": 28,
   "metadata": {},
   "outputs": [
    {
     "name": "stdout",
     "output_type": "stream",
     "text": [
      "counting 5 samples\n",
      "counting 10 samples\n",
      "counting 20 samples\n",
      "counting 50 samples\n",
      "counting 100 samples\n",
      "counting 200 samples\n"
     ]
    }
   ],
   "source": [
    "sample_sizes = [5,10,20,50,100,200]\n",
    "timing = []\n",
    "for n in sample_sizes:\n",
    "    print('counting {} samples'.format(n))\n",
    "    count_time, results = word_count_pandas_sample(n, track=False)\n",
    "    timing.append({'n': n, 'count_time' : count_time , 'workers' : 1})"
   ]
  },
  {
   "cell_type": "code",
   "execution_count": 29,
   "metadata": {},
   "outputs": [],
   "source": [
    "t = pd.DataFrame(timing)"
   ]
  },
  {
   "cell_type": "code",
   "execution_count": 30,
   "metadata": {},
   "outputs": [],
   "source": [
    "import matplotlib.pyplot as plt\n",
    "%matplotlib inline"
   ]
  },
  {
   "cell_type": "code",
   "execution_count": 31,
   "metadata": {},
   "outputs": [
    {
     "data": {
      "text/plain": [
       "[<matplotlib.lines.Line2D at 0x7f1e112d8e10>]"
      ]
     },
     "execution_count": 31,
     "metadata": {},
     "output_type": "execute_result"
    },
    {
     "data": {
      "image/png": "[encoded data removed]",
      "text/plain": [
       "<matplotlib.figure.Figure at 0x7f1e1158ef60>"
      ]
     },
     "metadata": {},
     "output_type": "display_data"
    }
   ],
   "source": [
    "plt.plot(t.n, t.count_time)"
   ]
  },
  {
   "cell_type": "code",
   "execution_count": 32,
   "metadata": {},
   "outputs": [
    {
     "name": "stdout",
     "output_type": "stream",
     "text": [
      "counting 5 samples\n",
      "counting 10 samples\n",
      "counting 20 samples\n",
      "counting 50 samples\n",
      "counting 100 samples\n",
      "counting 200 samples\n"
     ]
    }
   ],
   "source": [
    "sample_sizes = [5,10,20,50,100,200]\n",
    "for n in sample_sizes:\n",
    "    print('counting {} samples'.format(n))\n",
    "    count_time, results = word_count_pandas_sample(n, track=False)\n",
    "    timing.append({'n': n, 'count_time' : count_time , 'workers' : 2})"
   ]
  },
  {
   "cell_type": "code",
   "execution_count": 36,
   "metadata": {},
   "outputs": [],
   "source": [
    "t = pd.DataFrame(timing)"
   ]
  },
  {
   "cell_type": "code",
   "execution_count": 37,
   "metadata": {},
   "outputs": [
    {
     "data": {
      "text/plain": [
       "<matplotlib.legend.Legend at 0x7f1e1103a320>"
      ]
     },
     "execution_count": 37,
     "metadata": {},
     "output_type": "execute_result"
    },
    {
     "data": {
      "image/png": "[encoded data removed]",
      "text/plain": [
       "<matplotlib.figure.Figure at 0x7f1e11203e10>"
      ]
     },
     "metadata": {},
     "output_type": "display_data"
    }
   ],
   "source": [
    "plt.plot(t[t.workers == 1].n, t[t.workers == 1].count_time, label='one worker')\n",
    "plt.plot(t[t.workers == 2].n, t[t.workers == 2].count_time, label='two workers')\n",
    "plt.legend()"
   ]
  },
  {
   "cell_type": "code",
   "execution_count": null,
   "metadata": {},
   "outputs": [],
   "source": []
  }
 ],
 "metadata": {
  "kernelspec": {
   "display_name": "Python 3",
   "language": "python",
   "name": "python3"
  },
  "language_info": {
   "codemirror_mode": {
    "name": "ipython",
    "version": 3
   },
   "file_extension": ".py",
   "mimetype": "text/x-python",
   "name": "python",
   "nbconvert_exporter": "python",
   "pygments_lexer": "ipython3",
   "version": "3.6.3"
  }
 },
 "nbformat": 4,
 "nbformat_minor": 2
}
